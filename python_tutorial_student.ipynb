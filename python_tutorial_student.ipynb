{
  "cells": [
    {
      "cell_type": "code",
      "source": [
        "!git clone https://github.com/Claybarn/INP_bootcamp_Python_Intro"
      ],
      "metadata": {
        "id": "1gLIgXI5m387"
      },
      "execution_count": null,
      "outputs": []
    },
    {
      "cell_type": "code",
      "execution_count": null,
      "metadata": {
        "id": "iS__dPacl-YZ"
      },
      "outputs": [],
      "source": [
        "\"\"\"\n",
        "Learning Objectives\n",
        "\n",
        "This exercise was made with the following learning objectives:\n",
        "\n",
        "(1) get students comfortable with the python environment\n",
        "(2) understand how to use google while coding\n",
        "(3) know the difference between accessing elements of variables and using functions\n",
        "(4) understand for loops and if statements in python\n",
        "(5) know how to make basic plots\n",
        "\n",
        "In python, there are far fewer built in functions,\n",
        "and the vast majority of functionality comes from external libraries.\n",
        "\n",
        "We can import the external libraries like this:\n",
        "\"\"\"\n",
        "import numpy as np\n",
        "import matplotlib.pyplot as plt\n",
        "\n",
        "\"\"\"\n",
        "As you might have noticed, we can rename a library upon importing it with the 'as' keyword. This\n",
        "saves us from having to write out the full name of the library everytime we want to use it!\n",
        "\"\"\"\n"
      ]
    },
    {
      "cell_type": "code",
      "execution_count": null,
      "metadata": {
        "id": "-pD6GoFxl-Ya"
      },
      "outputs": [],
      "source": [
        "# numpy files end in .npy and can easily be loaded:\n",
        "cell_responses = np.load('/content/INP_bootcamp_Python_Intro/cell_responses.npy')\n",
        "cell_times = np.load('/content/INP_bootcamp_Python_Intro/cell_times.npy')\n"
      ]
    },
    {
      "cell_type": "code",
      "execution_count": null,
      "metadata": {
        "id": "pTrB1LZil-Ya"
      },
      "outputs": [],
      "source": [
        "############################ EXERCISES ############################\n",
        "\n",
        "# Q1: what are the dimensions of the above data?\n",
        "data_dim = cell_responses.shape # HINT: google what the \"shape\" function does for numpy objects\n",
        "print(data_dim)\n",
        "# Q3: what is the number stored in the 1203th row and 2nd column? Keep in mind in python we start with 0!\n",
        "number = cell_responses[?,?] # HINT: google how to do matrix indexing in numpy/python. Note the syntax is different than matlab!"
      ]
    },
    {
      "cell_type": "code",
      "execution_count": null,
      "metadata": {
        "id": "s7B3lLg2l-Yb"
      },
      "outputs": [],
      "source": [
        "## plot the data from all the cells\n",
        "plt.plot(cell_responses)"
      ]
    },
    {
      "cell_type": "code",
      "execution_count": null,
      "metadata": {
        "id": "70X3sdprl-Yb"
      },
      "outputs": [],
      "source": [
        "#create a time vector and plot\n",
        "#create a time vector with: np.linspace(time start, time end, number of points);\n",
        "\n",
        "fs = 30 # Hz\n",
        "num_pts = cell_responses.shape[0]\n",
        "time = np.linspace(0,num_pts/fs,num_pts)\n",
        "\n",
        "plt.plot(time, cell_responses)\n",
        "plt.xlabel('Time')\n",
        "plt.ylabel('dFoF')"
      ]
    },
    {
      "cell_type": "code",
      "execution_count": null,
      "metadata": {
        "id": "7H6QVZRYl-Yb"
      },
      "outputs": [],
      "source": [
        "## plot the data from the first cell\n",
        "first_cell_data = cell_responses[:, 0]\n",
        "\n",
        "# firstCellData is a 1920 x 1 vector (1920 time points, 1 neuron)\n",
        "first_cell_data.shape\n",
        "plt.plot(time, first_cell_data)\n",
        "\n",
        "## on the same plot, plot the first half of the data\n",
        "# subtract 1 so we can see the two data sets\n",
        "halfLen = int(first_cell_data[0]/2)\n",
        "plt.plot(time[:halfLen],first_cell_data[:halfLen]-1)\n"
      ]
    },
    {
      "cell_type": "code",
      "execution_count": null,
      "metadata": {
        "id": "p1WaukKsl-Yb"
      },
      "outputs": [],
      "source": [
        "## introducing the for loop: ploting each cell individually\n",
        "for i in range(cell_responses.shape[1]):\n",
        "   plt.figure()\n",
        "   plt.plot(time, cell_responses[:, i])\n",
        "   plt.title('Cell ' + str(i))\n"
      ]
    },
    {
      "cell_type": "code",
      "execution_count": null,
      "metadata": {
        "id": "2xt6Wm6hl-Yb"
      },
      "outputs": [],
      "source": [
        "## we want to take the average of activity for each cell\n",
        "# see numpy mean function\n",
        "\n",
        "## call a numpy function on the data\n",
        "data_mean = np.nanmean(cell_responses)\n",
        "print(data_mean)"
      ]
    },
    {
      "cell_type": "code",
      "execution_count": null,
      "metadata": {
        "id": "6RUWNGsBl-Yb"
      },
      "outputs": [],
      "source": [
        "# This mean gives 1 value, must be the mean of all the data\n",
        "# But what if we want the mean trace (mean of 4 cells over all 1920 values)?\n",
        "\n",
        "data_mean = np.nanmean(cell_responses, axis=1)\n",
        "print(data_mean.shape)\n",
        "plt.plot(time,data_mean)\n"
      ]
    },
    {
      "cell_type": "code",
      "execution_count": null,
      "metadata": {
        "id": "7gYOMF0Ml-Yc"
      },
      "outputs": [],
      "source": [
        "## What if we want to plot both the activity and the histogram showing the distribution of activity?  We can make our own plotting function\n",
        "\n",
        "neuron_num = 1;   # cell we want to plot\n",
        "\n",
        "# store names for a legend in a \"cell array\"\n",
        "legendLabelsFull = ['Neuron 1','Neuron 2','Neuron 3','Neuron 4']\n",
        "\n",
        "plt.plot(time, cell_responses[:,neuron_num], label=legendLabelsFull[neuron_num])\n",
        "plt.legend()\n"
      ]
    },
    {
      "cell_type": "code",
      "execution_count": null,
      "metadata": {
        "id": "aedtdjC3l-Yc"
      },
      "outputs": [],
      "source": [
        "## Exercises\n",
        "\n",
        "# 1) create a loop to plot all 4 cells using your plotData function\n",
        "# 2) change the color of the plots\n",
        "# 3) instead of a loop, plot all 4 cells in subplots\n",
        "# 4) what is the minimum activity in cell 1?\n",
        "# 5) what is the maximum activity of all cells?\n",
        "# 6) find number of points above 1 for each cell"
      ]
    }
  ],
  "metadata": {
    "kernelspec": {
      "display_name": "Python 3 (ipykernel)",
      "language": "python",
      "name": "python3"
    },
    "language_info": {
      "codemirror_mode": {
        "name": "ipython",
        "version": 3
      },
      "file_extension": ".py",
      "mimetype": "text/x-python",
      "name": "python",
      "nbconvert_exporter": "python",
      "pygments_lexer": "ipython3",
      "version": "3.8.5"
    },
    "colab": {
      "provenance": []
    }
  },
  "nbformat": 4,
  "nbformat_minor": 0
}